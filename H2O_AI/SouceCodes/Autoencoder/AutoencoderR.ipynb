{
 "cells": [
  {
   "cell_type": "code",
   "execution_count": 2,
   "metadata": {
    "collapsed": false
   },
   "outputs": [
    {
     "name": "stderr",
     "output_type": "stream",
     "text": [
      "\n",
      "----------------------------------------------------------------------\n",
      "\n",
      "Your next step is to start H2O:\n",
      "    > h2o.init()\n",
      "\n",
      "For H2O package documentation, ask for help:\n",
      "    > ??h2o\n",
      "\n",
      "After starting H2O, you can use the Web UI at http://localhost:54321\n",
      "For more information visit http://docs.h2o.ai\n",
      "\n",
      "----------------------------------------------------------------------\n",
      "\n",
      "\n",
      "Attaching package: 'h2o'\n",
      "\n",
      "The following objects are masked from 'package:stats':\n",
      "\n",
      "    cor, sd, var\n",
      "\n",
      "The following objects are masked from 'package:base':\n",
      "\n",
      "    %*%, %in%, &&, ||, apply, as.factor, as.numeric, colnames,\n",
      "    colnames<-, ifelse, is.character, is.factor, is.numeric, log,\n",
      "    log10, log1p, log2, round, signif, trunc\n",
      "\n"
     ]
    }
   ],
   "source": [
    "library(h2o)"
   ]
  },
  {
   "cell_type": "code",
   "execution_count": 3,
   "metadata": {
    "collapsed": false
   },
   "outputs": [
    {
     "name": "stdout",
     "output_type": "stream",
     "text": [
      " Connection successful!\n",
      "\n",
      "R is connected to the H2O cluster: \n",
      "    H2O cluster uptime:         1 hours 1 minutes \n",
      "    H2O cluster version:        3.10.3.5 \n",
      "    H2O cluster version age:    13 days  \n",
      "    H2O cluster name:           H2O_started_from_R_Yamini_ech830 \n",
      "    H2O cluster total nodes:    1 \n",
      "    H2O cluster total memory:   1.59 GB \n",
      "    H2O cluster total cores:    4 \n",
      "    H2O cluster allowed cores:  4 \n",
      "    H2O cluster healthy:        TRUE \n",
      "    H2O Connection ip:          localhost \n",
      "    H2O Connection port:        54321 \n",
      "    H2O Connection proxy:       NA \n",
      "    R Version:                  R version 3.3.2 (2016-10-31) \n",
      "\n"
     ]
    }
   ],
   "source": [
    "h2o.init()"
   ]
  },
  {
   "cell_type": "code",
   "execution_count": 4,
   "metadata": {
    "collapsed": true
   },
   "outputs": [],
   "source": [
    "prosPath = system.file(\"extdata\", \"prostate.csv\", package = \"h2o\")\n",
    "prostate_df <- read.csv(prosPath)"
   ]
  },
  {
   "cell_type": "code",
   "execution_count": 5,
   "metadata": {
    "collapsed": false
   },
   "outputs": [
    {
     "data": {
      "text/html": [
       "<ol class=list-inline>\n",
       "\t<li>193</li>\n",
       "\t<li>9</li>\n",
       "</ol>\n"
      ],
      "text/latex": [
       "\\begin{enumerate*}\n",
       "\\item 193\n",
       "\\item 9\n",
       "\\end{enumerate*}\n"
      ],
      "text/markdown": [
       "1. 193\n",
       "2. 9\n",
       "\n",
       "\n"
      ],
      "text/plain": [
       "[1] 193   9"
      ]
     },
     "metadata": {},
     "output_type": "display_data"
    }
   ],
   "source": [
    "set.seed(1234)\n",
    "random_splits <- runif(nrow(prostate_df))\n",
    "train_df <- prostate_df[random_splits < .5,]\n",
    "dim(train_df)"
   ]
  },
  {
   "cell_type": "code",
   "execution_count": 8,
   "metadata": {
    "collapsed": false
   },
   "outputs": [
    {
     "data": {
      "text/html": [
       "<table>\n",
       "<thead><tr><th></th><th scope=col>ID</th><th scope=col>CAPSULE</th><th scope=col>AGE</th><th scope=col>RACE</th><th scope=col>DPROS</th><th scope=col>DCAPS</th><th scope=col>PSA</th><th scope=col>VOL</th><th scope=col>GLEASON</th></tr></thead>\n",
       "<tbody>\n",
       "\t<tr><th scope=row>1</th><td> 1  </td><td>0   </td><td>65  </td><td>1   </td><td>2   </td><td>1   </td><td> 1.4</td><td> 0.0</td><td>6   </td></tr>\n",
       "\t<tr><th scope=row>7</th><td> 7  </td><td>0   </td><td>68  </td><td>2   </td><td>4   </td><td>2   </td><td>31.9</td><td> 0.0</td><td>7   </td></tr>\n",
       "\t<tr><th scope=row>8</th><td> 8  </td><td>0   </td><td>61  </td><td>2   </td><td>4   </td><td>2   </td><td>66.7</td><td>27.2</td><td>7   </td></tr>\n",
       "\t<tr><th scope=row>13</th><td>13  </td><td>1   </td><td>72  </td><td>1   </td><td>4   </td><td>2   </td><td>22.7</td><td> 0.0</td><td>9   </td></tr>\n",
       "\t<tr><th scope=row>15</th><td>15  </td><td>0   </td><td>75  </td><td>1   </td><td>1   </td><td>1   </td><td> 7.5</td><td> 0.0</td><td>5   </td></tr>\n",
       "\t<tr><th scope=row>17</th><td>17  </td><td>0   </td><td>75  </td><td>2   </td><td>1   </td><td>1   </td><td> 2.5</td><td> 0.0</td><td>5   </td></tr>\n",
       "</tbody>\n",
       "</table>\n"
      ],
      "text/latex": [
       "\\begin{tabular}{r|lllllllll}\n",
       "  & ID & CAPSULE & AGE & RACE & DPROS & DCAPS & PSA & VOL & GLEASON\\\\\n",
       "\\hline\n",
       "\t1 &  1   & 0    & 65   & 1    & 2    & 1    &  1.4 &  0.0 & 6   \\\\\n",
       "\t7 &  7   & 0    & 68   & 2    & 4    & 2    & 31.9 &  0.0 & 7   \\\\\n",
       "\t8 &  8   & 0    & 61   & 2    & 4    & 2    & 66.7 & 27.2 & 7   \\\\\n",
       "\t13 & 13   & 1    & 72   & 1    & 4    & 2    & 22.7 &  0.0 & 9   \\\\\n",
       "\t15 & 15   & 0    & 75   & 1    & 1    & 1    &  7.5 &  0.0 & 5   \\\\\n",
       "\t17 & 17   & 0    & 75   & 2    & 1    & 1    &  2.5 &  0.0 & 5   \\\\\n",
       "\\end{tabular}\n"
      ],
      "text/markdown": [
       "\n",
       "| <!--/--> | ID | CAPSULE | AGE | RACE | DPROS | DCAPS | PSA | VOL | GLEASON | \n",
       "|---|---|---|---|---|---|\n",
       "| 1 |  1   | 0    | 65   | 1    | 2    | 1    |  1.4 |  0.0 | 6    | \n",
       "| 7 |  7   | 0    | 68   | 2    | 4    | 2    | 31.9 |  0.0 | 7    | \n",
       "| 8 |  8   | 0    | 61   | 2    | 4    | 2    | 66.7 | 27.2 | 7    | \n",
       "| 13 | 13   | 1    | 72   | 1    | 4    | 2    | 22.7 |  0.0 | 9    | \n",
       "| 15 | 15   | 0    | 75   | 1    | 1    | 1    |  7.5 |  0.0 | 5    | \n",
       "| 17 | 17   | 0    | 75   | 2    | 1    | 1    |  2.5 |  0.0 | 5    | \n",
       "\n",
       "\n"
      ],
      "text/plain": [
       "   ID CAPSULE AGE RACE DPROS DCAPS PSA  VOL  GLEASON\n",
       "1   1 0       65  1    2     1      1.4  0.0 6      \n",
       "7   7 0       68  2    4     2     31.9  0.0 7      \n",
       "8   8 0       61  2    4     2     66.7 27.2 7      \n",
       "13 13 1       72  1    4     2     22.7  0.0 9      \n",
       "15 15 0       75  1    1     1      7.5  0.0 5      \n",
       "17 17 0       75  2    1     1      2.5  0.0 5      "
      ]
     },
     "metadata": {},
     "output_type": "display_data"
    }
   ],
   "source": [
    "head(train_df)"
   ]
  },
  {
   "cell_type": "code",
   "execution_count": 9,
   "metadata": {
    "collapsed": false
   },
   "outputs": [
    {
     "data": {
      "text/html": [
       "<ol class=list-inline>\n",
       "\t<li>187</li>\n",
       "\t<li>9</li>\n",
       "</ol>\n"
      ],
      "text/latex": [
       "\\begin{enumerate*}\n",
       "\\item 187\n",
       "\\item 9\n",
       "\\end{enumerate*}\n"
      ],
      "text/markdown": [
       "1. 187\n",
       "2. 9\n",
       "\n",
       "\n"
      ],
      "text/plain": [
       "[1] 187   9"
      ]
     },
     "metadata": {},
     "output_type": "display_data"
    }
   ],
   "source": [
    "validate_df <- prostate_df[random_splits >=.5,]\n",
    "dim(validate_df)"
   ]
  },
  {
   "cell_type": "code",
   "execution_count": 10,
   "metadata": {
    "collapsed": true
   },
   "outputs": [],
   "source": [
    "outcome_name <- 'CAPSULE'\n",
    "feature_names <- setdiff(names(prostate_df), outcome_name)"
   ]
  },
  {
   "cell_type": "code",
   "execution_count": 13,
   "metadata": {
    "collapsed": false
   },
   "outputs": [
    {
     "data": {
      "text/html": [
       "<ol class=list-inline>\n",
       "\t<li>'ID'</li>\n",
       "\t<li>'AGE'</li>\n",
       "\t<li>'RACE'</li>\n",
       "\t<li>'DPROS'</li>\n",
       "\t<li>'DCAPS'</li>\n",
       "\t<li>'PSA'</li>\n",
       "\t<li>'VOL'</li>\n",
       "\t<li>'GLEASON'</li>\n",
       "</ol>\n"
      ],
      "text/latex": [
       "\\begin{enumerate*}\n",
       "\\item 'ID'\n",
       "\\item 'AGE'\n",
       "\\item 'RACE'\n",
       "\\item 'DPROS'\n",
       "\\item 'DCAPS'\n",
       "\\item 'PSA'\n",
       "\\item 'VOL'\n",
       "\\item 'GLEASON'\n",
       "\\end{enumerate*}\n"
      ],
      "text/markdown": [
       "1. 'ID'\n",
       "2. 'AGE'\n",
       "3. 'RACE'\n",
       "4. 'DPROS'\n",
       "5. 'DCAPS'\n",
       "6. 'PSA'\n",
       "7. 'VOL'\n",
       "8. 'GLEASON'\n",
       "\n",
       "\n"
      ],
      "text/plain": [
       "[1] \"ID\"      \"AGE\"     \"RACE\"    \"DPROS\"   \"DCAPS\"   \"PSA\"     \"VOL\"    \n",
       "[8] \"GLEASON\""
      ]
     },
     "metadata": {},
     "output_type": "display_data"
    }
   ],
   "source": [
    "feature_names"
   ]
  },
  {
   "cell_type": "code",
   "execution_count": 14,
   "metadata": {
    "collapsed": false
   },
   "outputs": [
    {
     "name": "stdout",
     "output_type": "stream",
     "text": [
      "\r",
      "  |                                                                            \r",
      "  |                                                                      |   0%\r",
      "  |                                                                            \r",
      "  |======================================================================| 100%\n"
     ]
    }
   ],
   "source": [
    "prostate.hex<-as.h2o(train_df, destination_frame=\"train.hex\")"
   ]
  },
  {
   "cell_type": "code",
   "execution_count": 15,
   "metadata": {
    "collapsed": false
   },
   "outputs": [
    {
     "data": {
      "text/html": [
       "<table>\n",
       "<thead><tr><th scope=col>ID</th><th scope=col>CAPSULE</th><th scope=col>AGE</th><th scope=col>RACE</th><th scope=col>DPROS</th><th scope=col>DCAPS</th><th scope=col>PSA</th><th scope=col>VOL</th><th scope=col>GLEASON</th></tr></thead>\n",
       "<tbody>\n",
       "\t<tr><td> 1  </td><td>0   </td><td>65  </td><td>1   </td><td>2   </td><td>1   </td><td> 1.4</td><td> 0.0</td><td>6   </td></tr>\n",
       "\t<tr><td> 7  </td><td>0   </td><td>68  </td><td>2   </td><td>4   </td><td>2   </td><td>31.9</td><td> 0.0</td><td>7   </td></tr>\n",
       "\t<tr><td> 8  </td><td>0   </td><td>61  </td><td>2   </td><td>4   </td><td>2   </td><td>66.7</td><td>27.2</td><td>7   </td></tr>\n",
       "\t<tr><td>13  </td><td>1   </td><td>72  </td><td>1   </td><td>4   </td><td>2   </td><td>22.7</td><td> 0.0</td><td>9   </td></tr>\n",
       "\t<tr><td>15  </td><td>0   </td><td>75  </td><td>1   </td><td>1   </td><td>1   </td><td> 7.5</td><td> 0.0</td><td>5   </td></tr>\n",
       "\t<tr><td>17  </td><td>0   </td><td>75  </td><td>2   </td><td>1   </td><td>1   </td><td> 2.5</td><td> 0.0</td><td>5   </td></tr>\n",
       "</tbody>\n",
       "</table>\n"
      ],
      "text/latex": [
       "\\begin{tabular}{r|lllllllll}\n",
       " ID & CAPSULE & AGE & RACE & DPROS & DCAPS & PSA & VOL & GLEASON\\\\\n",
       "\\hline\n",
       "\t  1   & 0    & 65   & 1    & 2    & 1    &  1.4 &  0.0 & 6   \\\\\n",
       "\t  7   & 0    & 68   & 2    & 4    & 2    & 31.9 &  0.0 & 7   \\\\\n",
       "\t  8   & 0    & 61   & 2    & 4    & 2    & 66.7 & 27.2 & 7   \\\\\n",
       "\t 13   & 1    & 72   & 1    & 4    & 2    & 22.7 &  0.0 & 9   \\\\\n",
       "\t 15   & 0    & 75   & 1    & 1    & 1    &  7.5 &  0.0 & 5   \\\\\n",
       "\t 17   & 0    & 75   & 2    & 1    & 1    &  2.5 &  0.0 & 5   \\\\\n",
       "\\end{tabular}\n"
      ],
      "text/markdown": [
       "\n",
       "ID | CAPSULE | AGE | RACE | DPROS | DCAPS | PSA | VOL | GLEASON | \n",
       "|---|---|---|---|---|---|\n",
       "|  1   | 0    | 65   | 1    | 2    | 1    |  1.4 |  0.0 | 6    | \n",
       "|  7   | 0    | 68   | 2    | 4    | 2    | 31.9 |  0.0 | 7    | \n",
       "|  8   | 0    | 61   | 2    | 4    | 2    | 66.7 | 27.2 | 7    | \n",
       "| 13   | 1    | 72   | 1    | 4    | 2    | 22.7 |  0.0 | 9    | \n",
       "| 15   | 0    | 75   | 1    | 1    | 1    |  7.5 |  0.0 | 5    | \n",
       "| 17   | 0    | 75   | 2    | 1    | 1    |  2.5 |  0.0 | 5    | \n",
       "\n",
       "\n"
      ],
      "text/plain": [
       "  ID CAPSULE AGE RACE DPROS DCAPS PSA  VOL  GLEASON\n",
       "1  1 0       65  1    2     1      1.4  0.0 6      \n",
       "2  7 0       68  2    4     2     31.9  0.0 7      \n",
       "3  8 0       61  2    4     2     66.7 27.2 7      \n",
       "4 13 1       72  1    4     2     22.7  0.0 9      \n",
       "5 15 0       75  1    1     1      7.5  0.0 5      \n",
       "6 17 0       75  2    1     1      2.5  0.0 5      "
      ]
     },
     "metadata": {},
     "output_type": "display_data"
    }
   ],
   "source": [
    "head(prostate.hex)"
   ]
  },
  {
   "cell_type": "code",
   "execution_count": 16,
   "metadata": {
    "collapsed": false
   },
   "outputs": [
    {
     "name": "stdout",
     "output_type": "stream",
     "text": [
      "\r",
      "  |                                                                            \r",
      "  |                                                                      |   0%\r",
      "  |                                                                            \r",
      "  |======================================================================| 100%\n"
     ]
    }
   ],
   "source": [
    "prostate.dl = h2o.deeplearning(x = feature_names, training_frame = prostate.hex,\n",
    "                               autoencoder = TRUE,\n",
    "                               reproducible = T,\n",
    "                               seed = 1234,\n",
    "                               hidden = c(6,5,6), epochs = 50)"
   ]
  },
  {
   "cell_type": "code",
   "execution_count": 18,
   "metadata": {
    "collapsed": false
   },
   "outputs": [
    {
     "data": {
      "text/plain": [
       "Model Details:\n",
       "==============\n",
       "\n",
       "H2OAutoEncoderModel: deeplearning\n",
       "Model ID:  DeepLearning_model_R_1488573890941_1 \n",
       "Status of Neuron Layers: auto-encoder, gaussian distribution, Quadratic loss, 181 weights/biases, 6.9 KB, 2,316 training samples, mini-batch size 1\n",
       "  layer units      type dropout       l1       l2 mean_rate rate_rms momentum\n",
       "1     1     8     Input  0.00 %                                              \n",
       "2     2     6 Rectifier  0.00 % 0.000000 0.000000  0.007952 0.003614 0.000000\n",
       "3     3     5 Rectifier  0.00 % 0.000000 0.000000  0.003152 0.001663 0.000000\n",
       "4     4     6 Rectifier  0.00 % 0.000000 0.000000  0.002366 0.001949 0.000000\n",
       "5     5     8 Rectifier         0.000000 0.000000  0.003682 0.005102 0.000000\n",
       "  mean_weight weight_rms mean_bias bias_rms\n",
       "1                                          \n",
       "2    0.033625   0.419705  0.526721 0.253438\n",
       "3   -0.112884   0.399731  0.983416 0.098159\n",
       "4   -0.007209   0.457098  1.001498 0.116803\n",
       "5   -0.123573   0.380468 -0.052076 0.049782\n",
       "\n",
       "\n",
       "H2OAutoEncoderMetrics: deeplearning\n",
       "** Reported on training data. **\n",
       "\n",
       "Training Set Metrics: \n",
       "=====================\n",
       "\n",
       "MSE: (Extract with `h2o.mse`) 0.05015752\n",
       "RMSE: (Extract with `h2o.rmse`) 0.2239587\n",
       "\n",
       "\n"
      ]
     },
     "metadata": {},
     "output_type": "display_data"
    }
   ],
   "source": [
    "prostate.dl"
   ]
  },
  {
   "cell_type": "code",
   "execution_count": 19,
   "metadata": {
    "collapsed": false
   },
   "outputs": [
    {
     "data": {
      "text/html": [
       "<table>\n",
       "<thead><tr><th scope=col>Reconstruction.MSE</th></tr></thead>\n",
       "<tbody>\n",
       "\t<tr><td>0.03988444</td></tr>\n",
       "\t<tr><td>0.14211926</td></tr>\n",
       "\t<tr><td>0.17585169</td></tr>\n",
       "\t<tr><td>0.10316385</td></tr>\n",
       "\t<tr><td>0.07844050</td></tr>\n",
       "\t<tr><td>0.10470483</td></tr>\n",
       "</tbody>\n",
       "</table>\n"
      ],
      "text/latex": [
       "\\begin{tabular}{r|l}\n",
       " Reconstruction.MSE\\\\\n",
       "\\hline\n",
       "\t 0.03988444\\\\\n",
       "\t 0.14211926\\\\\n",
       "\t 0.17585169\\\\\n",
       "\t 0.10316385\\\\\n",
       "\t 0.07844050\\\\\n",
       "\t 0.10470483\\\\\n",
       "\\end{tabular}\n"
      ],
      "text/markdown": [
       "\n",
       "Reconstruction.MSE | \n",
       "|---|---|---|---|---|---|\n",
       "| 0.03988444 | \n",
       "| 0.14211926 | \n",
       "| 0.17585169 | \n",
       "| 0.10316385 | \n",
       "| 0.07844050 | \n",
       "| 0.10470483 | \n",
       "\n",
       "\n"
      ],
      "text/plain": [
       "  Reconstruction.MSE\n",
       "1 0.03988444        \n",
       "2 0.14211926        \n",
       "3 0.17585169        \n",
       "4 0.10316385        \n",
       "5 0.07844050        \n",
       "6 0.10470483        "
      ]
     },
     "metadata": {},
     "output_type": "display_data"
    }
   ],
   "source": [
    "prostate.anon = h2o.anomaly(prostate.dl, prostate.hex, per_feature=FALSE)\n",
    "head(prostate.anon)"
   ]
  },
  {
   "cell_type": "code",
   "execution_count": 20,
   "metadata": {
    "collapsed": true
   },
   "outputs": [],
   "source": [
    "err <- as.data.frame(prostate.anon)"
   ]
  },
  {
   "cell_type": "code",
   "execution_count": 21,
   "metadata": {
    "collapsed": false
   },
   "outputs": [
    {
     "data": {
      "image/png": "[encoded data removed]",
      "text/plain": [
       "Plot with title \"Reconstruction Error\""
      ]
     },
     "metadata": {},
     "output_type": "display_data"
    }
   ],
   "source": [
    "plot(sort(err$Reconstruction.MSE), main='Reconstruction Error')"
   ]
  },
  {
   "cell_type": "code",
   "execution_count": null,
   "metadata": {
    "collapsed": true
   },
   "outputs": [],
   "source": []
  }
 ],
 "metadata": {
  "anaconda-cloud": {},
  "kernelspec": {
   "display_name": "R",
   "language": "R",
   "name": "ir"
  },
  "language_info": {
   "codemirror_mode": "r",
   "file_extension": ".r",
   "mimetype": "text/x-r-source",
   "name": "R",
   "pygments_lexer": "r",
   "version": "3.3.2"
  }
 },
 "nbformat": 4,
 "nbformat_minor": 1
}
